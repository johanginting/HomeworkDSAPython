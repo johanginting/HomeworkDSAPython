{
 "cells": [
  {
   "cell_type": "markdown",
   "metadata": {},
   "source": [
    "# Homework Telkomsel Data Science - Python\n",
    "### Data use: Titanic Data [Titanic](https://www.kaggle.com/c/titanic)\n",
    "### Goal: Figure out the factor that indicate Survivors"
   ]
  },
  {
   "cell_type": "code",
   "execution_count": 3,
   "metadata": {},
   "outputs": [],
   "source": [
    "#Import all required packages\n",
    "import matplotlib.pyplot as plt\n",
    "import pandas as pd\n",
    "import numpy as np"
   ]
  },
  {
   "cell_type": "code",
   "execution_count": 4,
   "metadata": {
    "scrolled": true
   },
   "outputs": [
    {
     "data": {
      "text/html": [
       "<div>\n",
       "<style scoped>\n",
       "    .dataframe tbody tr th:only-of-type {\n",
       "        vertical-align: middle;\n",
       "    }\n",
       "\n",
       "    .dataframe tbody tr th {\n",
       "        vertical-align: top;\n",
       "    }\n",
       "\n",
       "    .dataframe thead th {\n",
       "        text-align: right;\n",
       "    }\n",
       "</style>\n",
       "<table border=\"1\" class=\"dataframe\">\n",
       "  <thead>\n",
       "    <tr style=\"text-align: right;\">\n",
       "      <th></th>\n",
       "      <th>PassengerId</th>\n",
       "      <th>Survived</th>\n",
       "      <th>Pclass</th>\n",
       "      <th>Name</th>\n",
       "      <th>Sex</th>\n",
       "      <th>Age</th>\n",
       "      <th>SibSp</th>\n",
       "      <th>Parch</th>\n",
       "      <th>Ticket</th>\n",
       "      <th>Fare</th>\n",
       "      <th>Cabin</th>\n",
       "      <th>Embarked</th>\n",
       "    </tr>\n",
       "  </thead>\n",
       "  <tbody>\n",
       "    <tr>\n",
       "      <th>0</th>\n",
       "      <td>1</td>\n",
       "      <td>0</td>\n",
       "      <td>3</td>\n",
       "      <td>Braund, Mr. Owen Harris</td>\n",
       "      <td>male</td>\n",
       "      <td>22.0</td>\n",
       "      <td>1</td>\n",
       "      <td>0</td>\n",
       "      <td>A/5 21171</td>\n",
       "      <td>7.2500</td>\n",
       "      <td>NaN</td>\n",
       "      <td>S</td>\n",
       "    </tr>\n",
       "    <tr>\n",
       "      <th>1</th>\n",
       "      <td>2</td>\n",
       "      <td>1</td>\n",
       "      <td>1</td>\n",
       "      <td>Cumings, Mrs. John Bradley (Florence Briggs Th...</td>\n",
       "      <td>female</td>\n",
       "      <td>38.0</td>\n",
       "      <td>1</td>\n",
       "      <td>0</td>\n",
       "      <td>PC 17599</td>\n",
       "      <td>71.2833</td>\n",
       "      <td>C85</td>\n",
       "      <td>C</td>\n",
       "    </tr>\n",
       "    <tr>\n",
       "      <th>2</th>\n",
       "      <td>3</td>\n",
       "      <td>1</td>\n",
       "      <td>3</td>\n",
       "      <td>Heikkinen, Miss. Laina</td>\n",
       "      <td>female</td>\n",
       "      <td>26.0</td>\n",
       "      <td>0</td>\n",
       "      <td>0</td>\n",
       "      <td>STON/O2. 3101282</td>\n",
       "      <td>7.9250</td>\n",
       "      <td>NaN</td>\n",
       "      <td>S</td>\n",
       "    </tr>\n",
       "    <tr>\n",
       "      <th>3</th>\n",
       "      <td>4</td>\n",
       "      <td>1</td>\n",
       "      <td>1</td>\n",
       "      <td>Futrelle, Mrs. Jacques Heath (Lily May Peel)</td>\n",
       "      <td>female</td>\n",
       "      <td>35.0</td>\n",
       "      <td>1</td>\n",
       "      <td>0</td>\n",
       "      <td>113803</td>\n",
       "      <td>53.1000</td>\n",
       "      <td>C123</td>\n",
       "      <td>S</td>\n",
       "    </tr>\n",
       "    <tr>\n",
       "      <th>4</th>\n",
       "      <td>5</td>\n",
       "      <td>0</td>\n",
       "      <td>3</td>\n",
       "      <td>Allen, Mr. William Henry</td>\n",
       "      <td>male</td>\n",
       "      <td>35.0</td>\n",
       "      <td>0</td>\n",
       "      <td>0</td>\n",
       "      <td>373450</td>\n",
       "      <td>8.0500</td>\n",
       "      <td>NaN</td>\n",
       "      <td>S</td>\n",
       "    </tr>\n",
       "  </tbody>\n",
       "</table>\n",
       "</div>"
      ],
      "text/plain": [
       "   PassengerId  Survived  Pclass  \\\n",
       "0            1         0       3   \n",
       "1            2         1       1   \n",
       "2            3         1       3   \n",
       "3            4         1       1   \n",
       "4            5         0       3   \n",
       "\n",
       "                                                Name     Sex   Age  SibSp  \\\n",
       "0                            Braund, Mr. Owen Harris    male  22.0      1   \n",
       "1  Cumings, Mrs. John Bradley (Florence Briggs Th...  female  38.0      1   \n",
       "2                             Heikkinen, Miss. Laina  female  26.0      0   \n",
       "3       Futrelle, Mrs. Jacques Heath (Lily May Peel)  female  35.0      1   \n",
       "4                           Allen, Mr. William Henry    male  35.0      0   \n",
       "\n",
       "   Parch            Ticket     Fare Cabin Embarked  \n",
       "0      0         A/5 21171   7.2500   NaN        S  \n",
       "1      0          PC 17599  71.2833   C85        C  \n",
       "2      0  STON/O2. 3101282   7.9250   NaN        S  \n",
       "3      0            113803  53.1000  C123        S  \n",
       "4      0            373450   8.0500   NaN        S  "
      ]
     },
     "execution_count": 4,
     "metadata": {},
     "output_type": "execute_result"
    }
   ],
   "source": [
    "#Create datafile from train.csv and examine the data\n",
    "df = pd.read_csv('hw/train.csv')\n",
    "df.head()"
   ]
  },
  {
   "cell_type": "markdown",
   "metadata": {},
   "source": [
    "* Note on Data:\n",
    "    * survival, 0=No, 1=Yes\n",
    "    * pclass -> Ticket class, 1 = 1st (Upper), 2 = 2nd (Middle), 3 = 3rd (Lower)\n",
    "    * Age -> Age is fractional if less than 1. If the age is estimated, is it in the form of xx.5 \n",
    "    * sibsp -> # of siblings / spouses aboard the Titanic\n",
    "    * parch -> # of parents / children aboard the Titanic\n",
    "    * cabin -> Cabin number\n",
    "    * embarked -> Port of Embarkation C = Cherbourg, Q = Queenstown, S = Southampton"
   ]
  },
  {
   "cell_type": "code",
   "execution_count": 5,
   "metadata": {},
   "outputs": [
    {
     "name": "stdout",
     "output_type": "stream",
     "text": [
      "(891, 12)\n",
      "<class 'pandas.core.frame.DataFrame'>\n",
      "RangeIndex: 891 entries, 0 to 890\n",
      "Data columns (total 12 columns):\n",
      "PassengerId    891 non-null int64\n",
      "Survived       891 non-null int64\n",
      "Pclass         891 non-null int64\n",
      "Name           891 non-null object\n",
      "Sex            891 non-null object\n",
      "Age            714 non-null float64\n",
      "SibSp          891 non-null int64\n",
      "Parch          891 non-null int64\n",
      "Ticket         891 non-null object\n",
      "Fare           891 non-null float64\n",
      "Cabin          204 non-null object\n",
      "Embarked       889 non-null object\n",
      "dtypes: float64(2), int64(5), object(5)\n",
      "memory usage: 83.6+ KB\n",
      "None\n"
     ]
    }
   ],
   "source": [
    "#Cek data size and column\n",
    "print(df.shape)\n",
    "print(df.info())"
   ]
  },
  {
   "cell_type": "markdown",
   "metadata": {},
   "source": [
    "* There are 12 Column that contain 5 string (object) informatin and 7 numeric information\n",
    "* Let's see more detail for numeric information"
   ]
  },
  {
   "cell_type": "code",
   "execution_count": 7,
   "metadata": {
    "scrolled": true
   },
   "outputs": [
    {
     "data": {
      "text/plain": [
       "PassengerId    0.000000\n",
       "Survived       0.000000\n",
       "Pclass         0.000000\n",
       "Name           0.000000\n",
       "Sex            0.000000\n",
       "Age            0.198653\n",
       "SibSp          0.000000\n",
       "Parch          0.000000\n",
       "Ticket         0.000000\n",
       "Fare           0.000000\n",
       "Cabin          0.771044\n",
       "Embarked       0.002245\n",
       "dtype: float64"
      ]
     },
     "execution_count": 7,
     "metadata": {},
     "output_type": "execute_result"
    }
   ],
   "source": [
    "#Check Null data\n",
    "df.isnull().sum()/891"
   ]
  },
  {
   "cell_type": "markdown",
   "metadata": {},
   "source": [
    "* Data for Cabin contain only 33% while age contain 80% data\n",
    "* Eliminate Cabin information since only 33% data is filled\n",
    "* Drop these column for following analysis since these coloumn apply for each data: \n",
    "    * PassengerId\n",
    "    * Name\n",
    "    * Ticket"
   ]
  },
  {
   "cell_type": "code",
   "execution_count": 10,
   "metadata": {},
   "outputs": [
    {
     "data": {
      "text/html": [
       "<div>\n",
       "<style scoped>\n",
       "    .dataframe tbody tr th:only-of-type {\n",
       "        vertical-align: middle;\n",
       "    }\n",
       "\n",
       "    .dataframe tbody tr th {\n",
       "        vertical-align: top;\n",
       "    }\n",
       "\n",
       "    .dataframe thead th {\n",
       "        text-align: right;\n",
       "    }\n",
       "</style>\n",
       "<table border=\"1\" class=\"dataframe\">\n",
       "  <thead>\n",
       "    <tr style=\"text-align: right;\">\n",
       "      <th></th>\n",
       "      <th>Survived</th>\n",
       "      <th>Pclass</th>\n",
       "      <th>Sex</th>\n",
       "      <th>Age</th>\n",
       "      <th>SibSp</th>\n",
       "      <th>Parch</th>\n",
       "      <th>Fare</th>\n",
       "      <th>Embarked</th>\n",
       "    </tr>\n",
       "  </thead>\n",
       "  <tbody>\n",
       "    <tr>\n",
       "      <th>0</th>\n",
       "      <td>0</td>\n",
       "      <td>3</td>\n",
       "      <td>male</td>\n",
       "      <td>22.0</td>\n",
       "      <td>1</td>\n",
       "      <td>0</td>\n",
       "      <td>7.2500</td>\n",
       "      <td>S</td>\n",
       "    </tr>\n",
       "    <tr>\n",
       "      <th>1</th>\n",
       "      <td>1</td>\n",
       "      <td>1</td>\n",
       "      <td>female</td>\n",
       "      <td>38.0</td>\n",
       "      <td>1</td>\n",
       "      <td>0</td>\n",
       "      <td>71.2833</td>\n",
       "      <td>C</td>\n",
       "    </tr>\n",
       "    <tr>\n",
       "      <th>2</th>\n",
       "      <td>1</td>\n",
       "      <td>3</td>\n",
       "      <td>female</td>\n",
       "      <td>26.0</td>\n",
       "      <td>0</td>\n",
       "      <td>0</td>\n",
       "      <td>7.9250</td>\n",
       "      <td>S</td>\n",
       "    </tr>\n",
       "    <tr>\n",
       "      <th>3</th>\n",
       "      <td>1</td>\n",
       "      <td>1</td>\n",
       "      <td>female</td>\n",
       "      <td>35.0</td>\n",
       "      <td>1</td>\n",
       "      <td>0</td>\n",
       "      <td>53.1000</td>\n",
       "      <td>S</td>\n",
       "    </tr>\n",
       "    <tr>\n",
       "      <th>4</th>\n",
       "      <td>0</td>\n",
       "      <td>3</td>\n",
       "      <td>male</td>\n",
       "      <td>35.0</td>\n",
       "      <td>0</td>\n",
       "      <td>0</td>\n",
       "      <td>8.0500</td>\n",
       "      <td>S</td>\n",
       "    </tr>\n",
       "  </tbody>\n",
       "</table>\n",
       "</div>"
      ],
      "text/plain": [
       "   Survived  Pclass     Sex   Age  SibSp  Parch     Fare Embarked\n",
       "0         0       3    male  22.0      1      0   7.2500        S\n",
       "1         1       1  female  38.0      1      0  71.2833        C\n",
       "2         1       3  female  26.0      0      0   7.9250        S\n",
       "3         1       1  female  35.0      1      0  53.1000        S\n",
       "4         0       3    male  35.0      0      0   8.0500        S"
      ]
     },
     "execution_count": 10,
     "metadata": {},
     "output_type": "execute_result"
    }
   ],
   "source": [
    "#Drop unnecessary data\n",
    "df=df.drop(['PassengerId','Name','Ticket','Cabin'],axis = 1)\n",
    "df.head(5)"
   ]
  },
  {
   "cell_type": "code",
   "execution_count": 11,
   "metadata": {},
   "outputs": [
    {
     "data": {
      "text/html": [
       "<div>\n",
       "<style scoped>\n",
       "    .dataframe tbody tr th:only-of-type {\n",
       "        vertical-align: middle;\n",
       "    }\n",
       "\n",
       "    .dataframe tbody tr th {\n",
       "        vertical-align: top;\n",
       "    }\n",
       "\n",
       "    .dataframe thead th {\n",
       "        text-align: right;\n",
       "    }\n",
       "</style>\n",
       "<table border=\"1\" class=\"dataframe\">\n",
       "  <thead>\n",
       "    <tr style=\"text-align: right;\">\n",
       "      <th></th>\n",
       "      <th>Survived</th>\n",
       "      <th>Pclass</th>\n",
       "      <th>Age</th>\n",
       "      <th>SibSp</th>\n",
       "      <th>Parch</th>\n",
       "      <th>Fare</th>\n",
       "    </tr>\n",
       "  </thead>\n",
       "  <tbody>\n",
       "    <tr>\n",
       "      <th>count</th>\n",
       "      <td>891.000000</td>\n",
       "      <td>891.000000</td>\n",
       "      <td>714.000000</td>\n",
       "      <td>891.000000</td>\n",
       "      <td>891.000000</td>\n",
       "      <td>891.000000</td>\n",
       "    </tr>\n",
       "    <tr>\n",
       "      <th>mean</th>\n",
       "      <td>0.383838</td>\n",
       "      <td>2.308642</td>\n",
       "      <td>29.699118</td>\n",
       "      <td>0.523008</td>\n",
       "      <td>0.381594</td>\n",
       "      <td>32.204208</td>\n",
       "    </tr>\n",
       "    <tr>\n",
       "      <th>std</th>\n",
       "      <td>0.486592</td>\n",
       "      <td>0.836071</td>\n",
       "      <td>14.526497</td>\n",
       "      <td>1.102743</td>\n",
       "      <td>0.806057</td>\n",
       "      <td>49.693429</td>\n",
       "    </tr>\n",
       "    <tr>\n",
       "      <th>min</th>\n",
       "      <td>0.000000</td>\n",
       "      <td>1.000000</td>\n",
       "      <td>0.420000</td>\n",
       "      <td>0.000000</td>\n",
       "      <td>0.000000</td>\n",
       "      <td>0.000000</td>\n",
       "    </tr>\n",
       "    <tr>\n",
       "      <th>25%</th>\n",
       "      <td>0.000000</td>\n",
       "      <td>2.000000</td>\n",
       "      <td>20.125000</td>\n",
       "      <td>0.000000</td>\n",
       "      <td>0.000000</td>\n",
       "      <td>7.910400</td>\n",
       "    </tr>\n",
       "    <tr>\n",
       "      <th>50%</th>\n",
       "      <td>0.000000</td>\n",
       "      <td>3.000000</td>\n",
       "      <td>28.000000</td>\n",
       "      <td>0.000000</td>\n",
       "      <td>0.000000</td>\n",
       "      <td>14.454200</td>\n",
       "    </tr>\n",
       "    <tr>\n",
       "      <th>75%</th>\n",
       "      <td>1.000000</td>\n",
       "      <td>3.000000</td>\n",
       "      <td>38.000000</td>\n",
       "      <td>1.000000</td>\n",
       "      <td>0.000000</td>\n",
       "      <td>31.000000</td>\n",
       "    </tr>\n",
       "    <tr>\n",
       "      <th>max</th>\n",
       "      <td>1.000000</td>\n",
       "      <td>3.000000</td>\n",
       "      <td>80.000000</td>\n",
       "      <td>8.000000</td>\n",
       "      <td>6.000000</td>\n",
       "      <td>512.329200</td>\n",
       "    </tr>\n",
       "  </tbody>\n",
       "</table>\n",
       "</div>"
      ],
      "text/plain": [
       "         Survived      Pclass         Age       SibSp       Parch        Fare\n",
       "count  891.000000  891.000000  714.000000  891.000000  891.000000  891.000000\n",
       "mean     0.383838    2.308642   29.699118    0.523008    0.381594   32.204208\n",
       "std      0.486592    0.836071   14.526497    1.102743    0.806057   49.693429\n",
       "min      0.000000    1.000000    0.420000    0.000000    0.000000    0.000000\n",
       "25%      0.000000    2.000000   20.125000    0.000000    0.000000    7.910400\n",
       "50%      0.000000    3.000000   28.000000    0.000000    0.000000   14.454200\n",
       "75%      1.000000    3.000000   38.000000    1.000000    0.000000   31.000000\n",
       "max      1.000000    3.000000   80.000000    8.000000    6.000000  512.329200"
      ]
     },
     "execution_count": 11,
     "metadata": {},
     "output_type": "execute_result"
    }
   ],
   "source": [
    "#Figure out the statistic of numeric data\n",
    "df.describe()"
   ]
  },
  {
   "cell_type": "markdown",
   "metadata": {},
   "source": [
    "* Note from Describe and info:\n",
    "    * 38.4% Survivor\n",
    "    * Rata-rata social class: 2.3 (Low Medium Class)\n",
    "    * Rata-rata Age: 29.7 tahun\n",
    "    * Rata-rata Sibling = 0.52\n",
    "    * Rata-rata Parent = 0.38\n",
    "    * Rata-rata Fare = USD 32.2"
   ]
  },
  {
   "cell_type": "code",
   "execution_count": 12,
   "metadata": {},
   "outputs": [
    {
     "data": {
      "text/html": [
       "<div>\n",
       "<style scoped>\n",
       "    .dataframe tbody tr th:only-of-type {\n",
       "        vertical-align: middle;\n",
       "    }\n",
       "\n",
       "    .dataframe tbody tr th {\n",
       "        vertical-align: top;\n",
       "    }\n",
       "\n",
       "    .dataframe thead th {\n",
       "        text-align: right;\n",
       "    }\n",
       "</style>\n",
       "<table border=\"1\" class=\"dataframe\">\n",
       "  <thead>\n",
       "    <tr style=\"text-align: right;\">\n",
       "      <th></th>\n",
       "      <th>Survived</th>\n",
       "      <th>Pclass</th>\n",
       "      <th>Age</th>\n",
       "      <th>SibSp</th>\n",
       "      <th>Parch</th>\n",
       "      <th>Fare</th>\n",
       "    </tr>\n",
       "  </thead>\n",
       "  <tbody>\n",
       "    <tr>\n",
       "      <th>Survived</th>\n",
       "      <td>1.000000</td>\n",
       "      <td>-0.338481</td>\n",
       "      <td>-0.077221</td>\n",
       "      <td>-0.035322</td>\n",
       "      <td>0.081629</td>\n",
       "      <td>0.257307</td>\n",
       "    </tr>\n",
       "    <tr>\n",
       "      <th>Pclass</th>\n",
       "      <td>-0.338481</td>\n",
       "      <td>1.000000</td>\n",
       "      <td>-0.369226</td>\n",
       "      <td>0.083081</td>\n",
       "      <td>0.018443</td>\n",
       "      <td>-0.549500</td>\n",
       "    </tr>\n",
       "    <tr>\n",
       "      <th>Age</th>\n",
       "      <td>-0.077221</td>\n",
       "      <td>-0.369226</td>\n",
       "      <td>1.000000</td>\n",
       "      <td>-0.308247</td>\n",
       "      <td>-0.189119</td>\n",
       "      <td>0.096067</td>\n",
       "    </tr>\n",
       "    <tr>\n",
       "      <th>SibSp</th>\n",
       "      <td>-0.035322</td>\n",
       "      <td>0.083081</td>\n",
       "      <td>-0.308247</td>\n",
       "      <td>1.000000</td>\n",
       "      <td>0.414838</td>\n",
       "      <td>0.159651</td>\n",
       "    </tr>\n",
       "    <tr>\n",
       "      <th>Parch</th>\n",
       "      <td>0.081629</td>\n",
       "      <td>0.018443</td>\n",
       "      <td>-0.189119</td>\n",
       "      <td>0.414838</td>\n",
       "      <td>1.000000</td>\n",
       "      <td>0.216225</td>\n",
       "    </tr>\n",
       "    <tr>\n",
       "      <th>Fare</th>\n",
       "      <td>0.257307</td>\n",
       "      <td>-0.549500</td>\n",
       "      <td>0.096067</td>\n",
       "      <td>0.159651</td>\n",
       "      <td>0.216225</td>\n",
       "      <td>1.000000</td>\n",
       "    </tr>\n",
       "  </tbody>\n",
       "</table>\n",
       "</div>"
      ],
      "text/plain": [
       "          Survived    Pclass       Age     SibSp     Parch      Fare\n",
       "Survived  1.000000 -0.338481 -0.077221 -0.035322  0.081629  0.257307\n",
       "Pclass   -0.338481  1.000000 -0.369226  0.083081  0.018443 -0.549500\n",
       "Age      -0.077221 -0.369226  1.000000 -0.308247 -0.189119  0.096067\n",
       "SibSp    -0.035322  0.083081 -0.308247  1.000000  0.414838  0.159651\n",
       "Parch     0.081629  0.018443 -0.189119  0.414838  1.000000  0.216225\n",
       "Fare      0.257307 -0.549500  0.096067  0.159651  0.216225  1.000000"
      ]
     },
     "execution_count": 12,
     "metadata": {},
     "output_type": "execute_result"
    }
   ],
   "source": [
    "#Find correlation within parameter\n",
    "df.corr()"
   ]
  },
  {
   "cell_type": "markdown",
   "metadata": {},
   "source": [
    "* Based on Correlation, survived Passenger explained by: \n",
    "    * Pclass (33.8%)\n",
    "    * Fare (25.7%)\n",
    "* However, Pclass and Fare has strong correlation 55%, as we can assume that Higher Class will pay higher Fare\n",
    "* Less explained by:\n",
    "    * Parch (8.2%)\n",
    "    * SibSp (3.5%)\n",
    "    * Age (7.7%)\n",
    "* For Object based, we need to consider this parameter:\n",
    "    * Sex            \n",
    "    * Embarked       "
   ]
  },
  {
   "cell_type": "code",
   "execution_count": 13,
   "metadata": {
    "scrolled": true
   },
   "outputs": [
    {
     "name": "stdout",
     "output_type": "stream",
     "text": [
      "   Survived  Pclass     Sex   Age  SibSp  Parch     Fare Embarked\n",
      "1         1       1  female  38.0      1      0  71.2833        C\n",
      "2         1       3  female  26.0      0      0   7.9250        S\n",
      "3         1       1  female  35.0      1      0  53.1000        S\n",
      "8         1       3  female  27.0      0      2  11.1333        S\n",
      "9         1       2  female  14.0      1      0  30.0708        C\n",
      "   Survived  Pclass   Sex   Age  SibSp  Parch     Fare Embarked\n",
      "0         0       3  male  22.0      1      0   7.2500        S\n",
      "4         0       3  male  35.0      0      0   8.0500        S\n",
      "5         0       3  male   NaN      0      0   8.4583        Q\n",
      "6         0       1  male  54.0      0      0  51.8625        S\n",
      "7         0       3  male   2.0      3      1  21.0750        S\n"
     ]
    }
   ],
   "source": [
    "#Create 2 data set for Survivor and Non Survivor\n",
    "dfSurvivor=df[df['Survived']==1] #Survivor Data\n",
    "dfNSurvivor=df[df['Survived']==0] #Non-Survivor Data\n",
    "print(dfSurvivor.head(5))\n",
    "print(dfNSurvivor.head(5))"
   ]
  },
  {
   "cell_type": "code",
   "execution_count": 14,
   "metadata": {},
   "outputs": [
    {
     "name": "stdout",
     "output_type": "stream",
     "text": [
      "(342, 8)\n",
      "       Survived      Pclass         Age       SibSp       Parch        Fare\n",
      "count     342.0  342.000000  290.000000  342.000000  342.000000  342.000000\n",
      "mean        1.0    1.950292   28.343690    0.473684    0.464912   48.395408\n",
      "std         0.0    0.863321   14.950952    0.708688    0.771712   66.596998\n",
      "min         1.0    1.000000    0.420000    0.000000    0.000000    0.000000\n",
      "25%         1.0    1.000000   19.000000    0.000000    0.000000   12.475000\n",
      "50%         1.0    2.000000   28.000000    0.000000    0.000000   26.000000\n",
      "75%         1.0    3.000000   36.000000    1.000000    1.000000   57.000000\n",
      "max         1.0    3.000000   80.000000    4.000000    5.000000  512.329200\n",
      "(549, 8)\n",
      "       Survived      Pclass         Age       SibSp       Parch        Fare\n",
      "count     549.0  549.000000  424.000000  549.000000  549.000000  549.000000\n",
      "mean        0.0    2.531876   30.626179    0.553734    0.329690   22.117887\n",
      "std         0.0    0.735805   14.172110    1.288399    0.823166   31.388207\n",
      "min         0.0    1.000000    1.000000    0.000000    0.000000    0.000000\n",
      "25%         0.0    2.000000   21.000000    0.000000    0.000000    7.854200\n",
      "50%         0.0    3.000000   28.000000    0.000000    0.000000   10.500000\n",
      "75%         0.0    3.000000   39.000000    1.000000    0.000000   26.000000\n",
      "max         0.0    3.000000   74.000000    8.000000    6.000000  263.000000\n"
     ]
    }
   ],
   "source": [
    "#Info for both data set\n",
    "print(dfSurvivor.shape)\n",
    "print(dfSurvivor.describe())\n",
    "print(dfNSurvivor.shape)\n",
    "print(dfNSurvivor.describe())"
   ]
  },
  {
   "cell_type": "markdown",
   "metadata": {},
   "source": [
    "* Insight dari 2 data set di atas:\n",
    "    * Terdapat 342 survivor dan 549 non-survivor\n",
    "    * Tingkat Ekonomi (P-Class):\n",
    "        * Rata-rata Survivor memiliki tingkat ekonomi Menengah ke Atas (Mean: 1.95) \n",
    "        * Sedangkan non-Survivor memiliki tingkat ekonomi Menengah ke Bawah (Mean: 2.5)\n",
    "    * Umur:\n",
    "        * Rata-rata Survivor berumur 28.3 tahun dengan usia paling 'muda' 0.42 tahun dan paling 'tua' 80 tahun\n",
    "        * Rata-rata Non-Survivor berumur 30.6 tahun dengan usia paling 'muda' 1 tahun dan paling 'tua' 74 tahun\n",
    "    * Jumlah Sibling dan Parent/Child yang onboard:\n",
    "        * Baik Survivor maupun Non-Survivor memiliki rata-rata yang sama sekitar 0.5 untuk Sibing dan 0.4 untuk Parent\n",
    "    * Rata-rata Survivor membayar 2 kali lipat dari non Survivor"
   ]
  },
  {
   "cell_type": "markdown",
   "metadata": {},
   "source": [
    "## Untuk bagian selanjutnya, kita akan mencari insight melalui Grafik"
   ]
  },
  {
   "cell_type": "code",
   "execution_count": 32,
   "metadata": {},
   "outputs": [
    {
     "data": {
      "image/png": "[encoded data removed]",
      "text/plain": [
       "<Figure size 432x288 with 1 Axes>"
      ]
     },
     "metadata": {
      "needs_background": "light"
     },
     "output_type": "display_data"
    }
   ],
   "source": [
    "#Survivor berdasarkan Jenis Kelamin\n",
    "fig, ax = plt.subplots()\n",
    "Survivors = dfSurvivor['Sex'].value_counts().reset_index(name='Survivors')\n",
    "\n",
    "# scatter the Survivors against the Sex\n",
    "gambar=ax.bar(Survivors['index'], Survivors['Survivors'])\n",
    "# set a title and labels\n",
    "ax.set_title('''Number of Survivors per Gender''')\n",
    "ax.set_xlabel('Gender')\n",
    "ax.set_ylabel('Number of Survivors')\n",
    "\n",
    "def autolabel(rects):\n",
    "    \"\"\"Attach a text label above each bar in *rects*, displaying its height.\"\"\"\n",
    "    for rect in rects:\n",
    "        height = rect.get_height()\n",
    "        ax.annotate('{}'.format(height),\n",
    "                    xy=(rect.get_x() + rect.get_width() / 2, height),\n",
    "                    xytext=(0, 0),  # 3 points vertical offset\n",
    "                    textcoords=\"offset points\",\n",
    "                    ha='center', va='bottom')\n",
    "\n",
    "autolabel(gambar)\n",
    "plt.savefig('SurvivorsByGender.png');"
   ]
  },
  {
   "cell_type": "code",
   "execution_count": 33,
   "metadata": {},
   "outputs": [
    {
     "data": {
      "image/png": "[encoded data removed]",
      "text/plain": [
       "<Figure size 432x288 with 1 Axes>"
      ]
     },
     "metadata": {
      "needs_background": "light"
     },
     "output_type": "display_data"
    }
   ],
   "source": [
    "#Survivor berdasarkan Jenis Kelamin\n",
    "fig, ax = plt.subplots()\n",
    "Survivors = dfNSurvivor['Sex'].value_counts().reset_index(name='NonSurvivors')\n",
    "gambar=ax.bar(Survivors['index'], Survivors['NonSurvivors'])\n",
    "# set a title and labels\n",
    "ax.set_title('''Number of Non Survivors per Gender''')\n",
    "ax.set_xlabel('Gender')\n",
    "ax.set_ylabel('Number of NonSurvivors')\n",
    "autolabel(gambar)\n",
    "plt.savefig('NonSurvivorsByGender.png');"
   ]
  },
  {
   "cell_type": "markdown",
   "metadata": {},
   "source": [
    "* Analisa berdasarkan data Jenis Kelamin:\n",
    "    * Wanita memiliki kesempatan untuk selamat dibandingkan Pria"
   ]
  },
  {
   "cell_type": "code",
   "execution_count": 28,
   "metadata": {},
   "outputs": [
    {
     "data": {
      "image/png": "[encoded data removed]",
      "text/plain": [
       "<Figure size 432x288 with 1 Axes>"
      ]
     },
     "metadata": {
      "needs_background": "light"
     },
     "output_type": "display_data"
    }
   ],
   "source": [
    "# Survivor berdasarkan Pelabuhan Keberangkatan\n",
    "fig, ax = plt.subplots()\n",
    "Survivors = dfSurvivor['Embarked'].value_counts().reset_index(name='Survivors')\n",
    "gambar=ax.bar(Survivors['index'], Survivors['Survivors'])\n",
    "autolabel(gambar)\n",
    "\n",
    "# set a title and labels\n",
    "ax.set_title('''Number of Survivors per Embarked''')\n",
    "ax.set_xlabel('Embarked')\n",
    "ax.set_ylabel('Number of Survivors')\n",
    "ax.set_xticklabels(['Southampton', 'Cherbourg','Queenstown'])\n",
    "plt.savefig('SurvivorsByEmbarked.png');"
   ]
  },
  {
   "cell_type": "code",
   "execution_count": 29,
   "metadata": {
    "scrolled": true
   },
   "outputs": [
    {
     "data": {
      "image/png": "[encoded data removed]",
      "text/plain": [
       "<Figure size 432x288 with 1 Axes>"
      ]
     },
     "metadata": {
      "needs_background": "light"
     },
     "output_type": "display_data"
    }
   ],
   "source": [
    "# Non Survivor berdasarkan Pelabuhan Keberangkatan\n",
    "fig, ax = plt.subplots()\n",
    "Survivors = dfNSurvivor['Embarked'].value_counts().reset_index(name='NonSurvivors')\n",
    "gambar=ax.bar(Survivors['index'], Survivors['NonSurvivors'])\n",
    "autolabel(gambar)\n",
    "\n",
    "# set a title and labels\n",
    "ax.set_title('''Number of Non Survivors per Embarked''')\n",
    "ax.set_xlabel('Embarked')\n",
    "ax.set_ylabel('Number of Non Survivors')\n",
    "ax.set_xticklabels(['Southampton', 'Cherbourg','Queenstown'])\n",
    "plt.savefig('NonSurvivorsByEmbarked.png');"
   ]
  },
  {
   "cell_type": "markdown",
   "metadata": {},
   "source": [
    "* Analisa bedasarkan Embarked Port:\n",
    "    * Secara jumlah Survivor paling banyak berangkat dari Southampton, Chebourg dan Queenstown secara berurutan\n",
    "    * Namun dilihat dari persentase tingkat keselamatan Survivor paling banyak adalah Chebourg (55.3) dan Queenstown (38.9%), Southampton (33.7%)   "
   ]
  },
  {
   "cell_type": "code",
   "execution_count": 30,
   "metadata": {},
   "outputs": [
    {
     "data": {
      "image/png": "[encoded data removed]",
      "text/plain": [
       "<Figure size 432x288 with 1 Axes>"
      ]
     },
     "metadata": {
      "needs_background": "light"
     },
     "output_type": "display_data"
    }
   ],
   "source": [
    "# Survivor berdasarkan Ticket Class\n",
    "fig, ax = plt.subplots()\n",
    "Survivors = dfSurvivor['Pclass'].value_counts().reset_index(name='Survivors')\n",
    "gambar=ax.bar(Survivors['index'], Survivors['Survivors'])\n",
    "autolabel(gambar)\n",
    "\n",
    "ax.set_title('''Number of Survivors per Ticket Class''')\n",
    "ax.set_xlabel('Ticket Class')\n",
    "ax.set_ylabel('Number of Survivors')\n",
    "plt.savefig('SurvivorsByTicketClass.png');"
   ]
  },
  {
   "cell_type": "code",
   "execution_count": 31,
   "metadata": {},
   "outputs": [
    {
     "data": {
      "image/png": "[encoded data removed]",
      "text/plain": [
       "<Figure size 432x288 with 1 Axes>"
      ]
     },
     "metadata": {
      "needs_background": "light"
     },
     "output_type": "display_data"
    }
   ],
   "source": [
    "# NonSurvivor berdasarkan Ticket Class\n",
    "fig, ax = plt.subplots()\n",
    "NonSurvivors = dfNSurvivor['Pclass'].value_counts().reset_index(name='NonSurvivors')\n",
    "gambar=ax.bar(NonSurvivors['index'], NonSurvivors['NonSurvivors'])\n",
    "autolabel(gambar)\n",
    "ax.set_title('''Number of NonSurvivors per Ticket Class''')\n",
    "ax.set_xlabel('Ticket Class')\n",
    "ax.set_ylabel('Number of NonSurvivors')\n",
    "plt.savefig('NonSurvivorsByTicketClass.png');"
   ]
  },
  {
   "cell_type": "markdown",
   "metadata": {},
   "source": [
    "* Analisa berdasarkan Tiket Class:\n",
    "    * Jumlah Survivor paling banyak adalah Pemegang tiket kelas 1 sedangkan non-survivor paling banyak adalah pemegang tiket kelas 3"
   ]
  },
  {
   "cell_type": "code",
   "execution_count": 25,
   "metadata": {},
   "outputs": [
    {
     "name": "stdout",
     "output_type": "stream",
     "text": [
      "   Pclass     Sex  Survived\n",
      "0       1  female        91\n",
      "1       1    male        45\n",
      "2       2  female        70\n",
      "3       2    male        17\n",
      "4       3  female        72\n",
      "5       3    male        47\n",
      "[0    96.808511\n",
      "1    36.885246\n",
      "2    92.105263\n",
      "3    15.740741\n",
      "4    50.000000\n",
      "5    13.544669\n",
      "Name: Survived, dtype: float64]\n"
     ]
    }
   ],
   "source": [
    "#Combine Ticket Class and Gender\n",
    "a=dfSurvivor.groupby(['Pclass', 'Sex'])['Survived'].count().reset_index()\n",
    "b=df.groupby(['Pclass', 'Sex'])['Survived'].count().reset_index()\n",
    "c=[a['Survived']/b['Survived']*100]\n",
    "print(a)\n",
    "print(c)"
   ]
  },
  {
   "cell_type": "markdown",
   "metadata": {},
   "source": [
    "* Analisa menggunakan Gender dana Pclass:\n",
    "    * Wanita yang memiliki tiket class 1 (Upper) memiliki kemungkinan 97% menjadi survivor\n",
    "    * Kemungkinan selamat tersebut menurun menjadi 92% untuk tiket class 2 (Middle) dan 50% untuk tiket class 3(Lower)\n",
    "    * Untuk Pria dengan tiket class 1 (Upper) kemungkinannya hanya 36% menjadi survivor dan menurun menjadi 16% dan 14 % untuk tiket class 2 (Middle) dan class 3 (Lower)"
   ]
  },
  {
   "cell_type": "markdown",
   "metadata": {},
   "source": [
    "* Kemungkinan Analisa lain:\n",
    "    * Selain analisa menggunakan parameter: Pclass, Sex dan Embarked dapat juga dilakukan analisa dengan parameter Nama ataupun Tiket untuk mengetahui nama penumpang atau tiket yang paling banyak menjadi survivor"
   ]
  }
 ],
 "metadata": {
  "kernelspec": {
   "display_name": "Python 3",
   "language": "python",
   "name": "python3"
  },
  "language_info": {
   "codemirror_mode": {
    "name": "ipython",
    "version": 3
   },
   "file_extension": ".py",
   "mimetype": "text/x-python",
   "name": "python",
   "nbconvert_exporter": "python",
   "pygments_lexer": "ipython3",
   "version": "3.7.3"
  }
 },
 "nbformat": 4,
 "nbformat_minor": 2
}
